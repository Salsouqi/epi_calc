{
 "cells": [
  {
   "cell_type": "code",
   "execution_count": 1,
   "id": "633a46dc",
   "metadata": {},
   "outputs": [
    {
     "name": "stdout",
     "output_type": "stream",
     "text": [
      "Population: 1780000\n",
      "Existing cases: 99\n",
      "5.5617977528089886e-05\n"
     ]
    }
   ],
   "source": [
    "#prevalence\n",
    "population = int(input(\"Population: \"))\n",
    "existingcases = int(input(\"Existing cases: \"))\n",
    "prevalence = existingcases / population\n",
    "print(prevalence)"
   ]
  },
  {
   "cell_type": "code",
   "execution_count": 4,
   "id": "b191259b",
   "metadata": {},
   "outputs": [
    {
     "name": "stdout",
     "output_type": "stream",
     "text": [
      "New Cases: 19\n",
      "1.0674157303370787e-05\n",
      "1.0674157303370786\n"
     ]
    },
    {
     "data": {
      "text/plain": [
       "5.561797752808989"
      ]
     },
     "execution_count": 4,
     "metadata": {},
     "output_type": "execute_result"
    }
   ],
   "source": [
    "#incidence\n",
    "newcases = int(input(\"New Cases: \"))\n",
    "incidence = newcases / population\n",
    "print(incidence)\n",
    "print(incidence * 100000)\n",
    "\n",
    "5.561797752808989"
   ]
  },
  {
   "cell_type": "code",
   "execution_count": 5,
   "id": "d8384c95",
   "metadata": {},
   "outputs": [
    {
     "name": "stdout",
     "output_type": "stream",
     "text": [
      "Number of those who died: 2\n",
      "Number of those who had disease: 99\n",
      "0.020202020202020204\n",
      "2020.2020202020203\n"
     ]
    }
   ],
   "source": [
    "#mortality rate\n",
    "dead = int(input(\"Number of those who died: \"))\n",
    "segment = int(input(\"Number of those who had disease: \"))\n",
    "mortalityrate = dead / segment\n",
    "print(mortalityrate)\n",
    "print(mortalityrate * 100000)"
   ]
  },
  {
   "cell_type": "code",
   "execution_count": 7,
   "id": "5f66ba8f",
   "metadata": {},
   "outputs": [
    {
     "name": "stdout",
     "output_type": "stream",
     "text": [
      "13\n",
      "3\n"
     ]
    }
   ],
   "source": [
    "# years of potential life lost\n",
    "lifeexpectancy = 77\n",
    "ages = [64, 74]\n",
    "print(lifeexpectancy - ages[0])\n",
    "print(lifeexpectancy - ages[1])"
   ]
  },
  {
   "cell_type": "code",
   "execution_count": 8,
   "id": "0951ce6f",
   "metadata": {},
   "outputs": [
    {
     "name": "stdout",
     "output_type": "stream",
     "text": [
      "8.0\n"
     ]
    }
   ],
   "source": [
    "lifelost = [13, 3]\n",
    "yppl = sum(lifelost) / len(lifelost)\n",
    "print(yppl)"
   ]
  }
 ],
 "metadata": {
  "kernelspec": {
   "display_name": "Python 3 (ipykernel)",
   "language": "python",
   "name": "python3"
  },
  "language_info": {
   "codemirror_mode": {
    "name": "ipython",
    "version": 3
   },
   "file_extension": ".py",
   "mimetype": "text/x-python",
   "name": "python",
   "nbconvert_exporter": "python",
   "pygments_lexer": "ipython3",
   "version": "3.11.4"
  }
 },
 "nbformat": 4,
 "nbformat_minor": 5
}
